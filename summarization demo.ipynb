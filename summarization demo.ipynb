{
 "cells": [
  {
   "cell_type": "code",
   "execution_count": 30,
   "metadata": {},
   "outputs": [],
   "source": [
    "from datasets import load_dataset\n",
    "import pandas as pd\n",
    "import torch\n",
    "from transformers.tokenization_utils_base import BatchEncoding\n",
    "from typing import List, Tuple\n",
    "from tqdm import tqdm\n",
    "from transformers import AdamW, get_linear_schedule_with_warmup\n",
    "from datasets import load_metric"
   ]
  },
  {
   "cell_type": "code",
   "execution_count": 2,
   "metadata": {},
   "outputs": [
    {
     "name": "stderr",
     "output_type": "stream",
     "text": [
      "Reusing dataset cnn_dailymail (C:\\Users\\Siri\\.cache\\huggingface\\datasets\\cnn_dailymail\\3.0.0\\3.0.0\\1b3c71476f6d152c31c1730e83ccb08bcf23e348233f4fcc11e182248e6bf7de)\n"
     ]
    },
    {
     "data": {
      "application/json": {
       "ascii": false,
       "bar_format": null,
       "colour": null,
       "elapsed": 0.013998985290527344,
       "initial": 0,
       "n": 0,
       "ncols": null,
       "nrows": 29,
       "postfix": null,
       "prefix": "",
       "rate": null,
       "total": 3,
       "unit": "it",
       "unit_divisor": 1000,
       "unit_scale": false
      },
      "application/vnd.jupyter.widget-view+json": {
       "model_id": "4c91481e55bf46dbbc328ff173e4f544",
       "version_major": 2,
       "version_minor": 0
      },
      "text/plain": [
       "  0%|          | 0/3 [00:00<?, ?it/s]"
      ]
     },
     "metadata": {},
     "output_type": "display_data"
    },
    {
     "data": {
      "text/plain": [
       "DatasetDict({\n",
       "    train: Dataset({\n",
       "        features: ['article', 'highlights', 'id'],\n",
       "        num_rows: 287113\n",
       "    })\n",
       "    validation: Dataset({\n",
       "        features: ['article', 'highlights', 'id'],\n",
       "        num_rows: 13368\n",
       "    })\n",
       "    test: Dataset({\n",
       "        features: ['article', 'highlights', 'id'],\n",
       "        num_rows: 11490\n",
       "    })\n",
       "})"
      ]
     },
     "execution_count": 2,
     "metadata": {},
     "output_type": "execute_result"
    }
   ],
   "source": [
    "dataset = load_dataset(\"cnn_dailymail\",'3.0.0')\n",
    "dataset"
   ]
  },
  {
   "cell_type": "code",
   "execution_count": 14,
   "metadata": {},
   "outputs": [],
   "source": [
    "df_train = dataset['train'].to_pandas().sample(frac=1).reset_index(drop=True)[:80][['article', 'highlights']]\n",
    "df_test = dataset['test'].to_pandas().sample(frac=1).reset_index(drop=True)[:40][['article', 'highlights']]"
   ]
  },
  {
   "cell_type": "code",
   "execution_count": 26,
   "metadata": {},
   "outputs": [],
   "source": [
    "from transformers import AutoTokenizer, AutoModelForSeq2SeqLM\n",
    "tokenizer = AutoTokenizer.from_pretrained(\"sshleifer/distilbart-xsum-12-6\")\n",
    "\n",
    "model = AutoModelForSeq2SeqLM.from_pretrained(\"sshleifer/distilbart-xsum-12-6\")"
   ]
  },
  {
   "cell_type": "code",
   "execution_count": 17,
   "metadata": {},
   "outputs": [],
   "source": [
    "batch_size = 8\n",
    "epochs = 4\n",
    "lr_init = 5e-5\n",
    "max_len = 256\n",
    "warmup_steps = 3\n",
    "max_input_length = 1024\n",
    "max_target_length = 64"
   ]
  },
  {
   "cell_type": "code",
   "execution_count": 22,
   "metadata": {},
   "outputs": [],
   "source": [
    "def batch_data(data: pd.DataFrame, bsize: int) -> List[Tuple[BatchEncoding, List[int], List[str]]]:\n",
    "    lst = []\n",
    "    l = len(data)//bsize\n",
    "    for i in range(l):\n",
    "        batch_text = data['article'][bsize*i:bsize*(i+1)].tolist()\n",
    "        batch_label = data['highlights'][bsize*i:bsize*(i+1)].tolist()\n",
    "        model_inputs = tokenizer.batch_encode_plus(batch_text, padding= 'max_length', max_length=max_input_length, truncation=True, add_special_tokens=True, return_tensors='pt')\n",
    "        labels = tokenizer.batch_encode_plus(batch_label, padding= 'max_length', max_length=max_target_length, truncation=True, add_special_tokens=True, return_tensors='pt')\n",
    "        Y = labels[\"input_ids\"]\n",
    "        s1 = batch_text\n",
    "        s2 = batch_label\n",
    "        lst.append((model_inputs,Y,s1,s2))\n",
    "    return lst"
   ]
  },
  {
   "cell_type": "code",
   "execution_count": 23,
   "metadata": {},
   "outputs": [],
   "source": [
    "train_batches = batch_data(df_train, bsize=batch_size)\n",
    "test_batches = batch_data(df_test, bsize=batch_size)"
   ]
  },
  {
   "cell_type": "code",
   "execution_count": 29,
   "metadata": {},
   "outputs": [
    {
     "name": "stderr",
     "output_type": "stream",
     "text": [
      "C:\\Users\\Siri\\AppData\\Roaming\\Python\\Python310\\site-packages\\transformers\\optimization.py:306: FutureWarning: This implementation of AdamW is deprecated and will be removed in a future version. Use the PyTorch implementation torch.optim.AdamW instead, or set `no_deprecation_warning=True` to disable this warning\n",
      "  warnings.warn(\n"
     ]
    }
   ],
   "source": [
    "# The torch `device` on which to execute the model computation\n",
    "if torch.cuda.is_available():\n",
    "    device = torch.device('cuda:0') # GPU\n",
    "else:\n",
    "    device = torch.device('cpu') # CPU\n",
    "model.to(device)\n",
    "\n",
    "# The gradient descent optimizer used for fine tuning\n",
    "optimizer = AdamW(model.parameters(), lr=lr_init)\n",
    "\n",
    "# The gradient descent learning rate\n",
    "lr = get_linear_schedule_with_warmup(\n",
    "    optimizer, num_warmup_steps=warmup_steps, \n",
    "    num_training_steps=len(train_batches))"
   ]
  },
  {
   "cell_type": "code",
   "execution_count": 96,
   "metadata": {},
   "outputs": [],
   "source": [
    "summary_ids = model.generate(train_batches[0][0]['input_ids'],num_beams=2, min_length=0,max_length=max_target_length)\n",
    "sumy_results=tokenizer.batch_decode(summary_ids, skip_special_tokens=True, clean_up_tokenization_spaces=False)"
   ]
  },
  {
   "cell_type": "code",
   "execution_count": 97,
   "metadata": {},
   "outputs": [
    {
     "data": {
      "text/plain": [
       "[\" The world's most famous Thanksgiving Day parade is getting ready to kick off this year.\",\n",
       " ' As part of a new Channel 4 documentary on tattoo addiction, we look at some of the people who have been getting their hands on the art.',\n",
       " ' As the debate over whether waterboarding is illegal or acceptable as an interrogation practice heats up, questions are being asked about the legal and ethical basis for the practice.',\n",
       " ' The US Air Force is preparing to land a spacecraft that has been in orbit for more than two years.',\n",
       " 'England and Portugal both suffered defeat in their Euro 2012 qualifiers on Saturday.',\n",
       " \" Cristiano Ronaldo was crowned the world's best footballer for the second time on Monday.\",\n",
       " ' A new survey suggests that men are spending more than women on Mother’s Day this year.',\n",
       " 'Police in Saudi Arabia have detained a groom and a number of other people after a fatal shooting at a wedding.']"
      ]
     },
     "execution_count": 97,
     "metadata": {},
     "output_type": "execute_result"
    }
   ],
   "source": [
    "sumy_results"
   ]
  },
  {
   "cell_type": "code",
   "execution_count": 104,
   "metadata": {},
   "outputs": [],
   "source": [
    "sumy_truth=train_batches[0][3]"
   ]
  },
  {
   "cell_type": "code",
   "execution_count": 105,
   "metadata": {},
   "outputs": [],
   "source": [
    "#calculate rouge\n",
    "# define a function\n",
    "def rouge(predictions,references):\n",
    "    import evaluate\n",
    "    rouge = evaluate.load('rouge')\n",
    "    predictions = predictions\n",
    "    references = references\n",
    "    results = rouge.compute(predictions=predictions,references=references)\n",
    "    return(results)"
   ]
  },
  {
   "cell_type": "code",
   "execution_count": 106,
   "metadata": {},
   "outputs": [
    {
     "data": {
      "text/plain": [
       "{'rouge1': 0.25754204800984815,\n",
       " 'rouge2': 0.09884327897207809,\n",
       " 'rougeL': 0.19055411037583941,\n",
       " 'rougeLsum': 0.2286331337897381}"
      ]
     },
     "execution_count": 106,
     "metadata": {},
     "output_type": "execute_result"
    }
   ],
   "source": [
    "rouge(sumy_results,sumy_truth)"
   ]
  },
  {
   "cell_type": "code",
   "execution_count": 108,
   "metadata": {},
   "outputs": [
    {
     "data": {
      "application/json": {
       "ascii": false,
       "bar_format": null,
       "colour": null,
       "elapsed": 0.01500082015991211,
       "initial": 0,
       "n": 0,
       "ncols": null,
       "nrows": 29,
       "postfix": null,
       "prefix": "",
       "rate": null,
       "total": 10,
       "unit": "it",
       "unit_divisor": 1000,
       "unit_scale": false
      },
      "application/vnd.jupyter.widget-view+json": {
       "model_id": "329c63ac93214dfda74b89427d1d4cf9",
       "version_major": 2,
       "version_minor": 0
      },
      "text/plain": [
       "  0%|          | 0/10 [00:00<?, ?it/s]"
      ]
     },
     "metadata": {},
     "output_type": "display_data"
    },
    {
     "data": {
      "application/json": {
       "ascii": false,
       "bar_format": null,
       "colour": null,
       "elapsed": 0.060709238052368164,
       "initial": 0,
       "n": 0,
       "ncols": null,
       "nrows": 29,
       "postfix": null,
       "prefix": "",
       "rate": null,
       "total": 10,
       "unit": "it",
       "unit_divisor": 1000,
       "unit_scale": false
      },
      "application/vnd.jupyter.widget-view+json": {
       "model_id": "5261c156b4724cd1a9dbd917d84c7888",
       "version_major": 2,
       "version_minor": 0
      },
      "text/plain": [
       "  0%|          | 0/10 [00:00<?, ?it/s]"
      ]
     },
     "metadata": {},
     "output_type": "display_data"
    },
    {
     "data": {
      "application/json": {
       "ascii": false,
       "bar_format": null,
       "colour": null,
       "elapsed": 0.07028794288635254,
       "initial": 0,
       "n": 0,
       "ncols": null,
       "nrows": 29,
       "postfix": null,
       "prefix": "",
       "rate": null,
       "total": 10,
       "unit": "it",
       "unit_divisor": 1000,
       "unit_scale": false
      },
      "application/vnd.jupyter.widget-view+json": {
       "model_id": "4f88eaafbc3c465ca2b19d8f2ec172c6",
       "version_major": 2,
       "version_minor": 0
      },
      "text/plain": [
       "  0%|          | 0/10 [00:00<?, ?it/s]"
      ]
     },
     "metadata": {},
     "output_type": "display_data"
    },
    {
     "data": {
      "application/json": {
       "ascii": false,
       "bar_format": null,
       "colour": null,
       "elapsed": 0.05069923400878906,
       "initial": 0,
       "n": 0,
       "ncols": null,
       "nrows": 29,
       "postfix": null,
       "prefix": "",
       "rate": null,
       "total": 10,
       "unit": "it",
       "unit_divisor": 1000,
       "unit_scale": false
      },
      "application/vnd.jupyter.widget-view+json": {
       "model_id": "44eb14dbe06c49058dc704a912b8561a",
       "version_major": 2,
       "version_minor": 0
      },
      "text/plain": [
       "  0%|          | 0/10 [00:00<?, ?it/s]"
      ]
     },
     "metadata": {},
     "output_type": "display_data"
    }
   ],
   "source": [
    "# train process\n",
    "\n",
    "from datasets import load_metric\n",
    "from tqdm.auto import tqdm\n",
    "\n",
    "model.train()\n",
    "for epoch in range(epochs):\n",
    "    progress_bar = tqdm(range(len(train_batches))) # add tqdm bar\n",
    "    loss_lst = []\n",
    "    \n",
    "    for item in train_batches:\n",
    "        # get each batch from batches\n",
    "        batch = {'input_ids':torch.as_tensor(item[0]['input_ids'], device=device),\n",
    "                'attention_mask':torch.as_tensor(item[0]['attention_mask'], device=device),\n",
    "                'labels': torch.as_tensor(item[1], device=device)}\n",
    "                \n",
    "        outputs = model(**batch)\n",
    "        loss = outputs.loss\n",
    "        loss.backward()\n",
    "        optimizer.step()\n",
    "        lr.step()\n",
    "        optimizer.zero_grad()\n",
    "\n",
    "        progress_bar.update(1) # update progree bar\n",
    "            \n",
    "        loss_lst.append(loss)\n",
    "        \n",
    "    # compute mean metrics computed over data in batches\n",
    "    mean_loss = float(sum(loss_lst)/len(loss_lst))"
   ]
  },
  {
   "cell_type": "code",
   "execution_count": 109,
   "metadata": {},
   "outputs": [
    {
     "data": {
      "text/plain": [
       "{'rouge1': 0.25754204800984815,\n",
       " 'rouge2': 0.09884327897207809,\n",
       " 'rougeL': 0.19055411037583941,\n",
       " 'rougeLsum': 0.2286331337897381}"
      ]
     },
     "execution_count": 109,
     "metadata": {},
     "output_type": "execute_result"
    }
   ],
   "source": [
    "trained_summary_ids = model.generate(train_batches[0][0]['input_ids'],num_beams=2, min_length=0,max_length=max_target_length)\n",
    "trained_sumy_results=tokenizer.batch_decode(summary_ids, skip_special_tokens=True, clean_up_tokenization_spaces=False)\n",
    "rouge(trained_sumy_results,sumy_truth)"
   ]
  },
  {
   "cell_type": "code",
   "execution_count": null,
   "metadata": {},
   "outputs": [],
   "source": []
  }
 ],
 "metadata": {
  "kernelspec": {
   "display_name": "ANLY590",
   "language": "python",
   "name": "anly590"
  },
  "language_info": {
   "codemirror_mode": {
    "name": "ipython",
    "version": 3
   },
   "file_extension": ".py",
   "mimetype": "text/x-python",
   "name": "python",
   "nbconvert_exporter": "python",
   "pygments_lexer": "ipython3",
   "version": "3.10.4"
  }
 },
 "nbformat": 4,
 "nbformat_minor": 4
}
